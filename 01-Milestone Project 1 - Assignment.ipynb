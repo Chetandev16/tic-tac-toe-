{
 "cells": [
  {
   "cell_type": "markdown",
   "metadata": {},
   "source": [
    "# Milestone Project 1\n",
    "\n",
    "You've already learned a ton and are ready to work on a real project.\n",
    "\n",
    "Your assignment: Create a Tic Tac Toe game. You are free to use any IDE you like.\n",
    "\n",
    "Here are the requirements:\n",
    "\n",
    "* 2 players should be able to play the game (both sitting at the same computer)\n",
    "* The board should be printed out every time a player makes a move\n",
    "* You should be able to accept input of the player position and then place a symbol on the board\n",
    "\n",
    "Feel free to use Google to help you figure anything out (but don't just Google \"Tic Tac Toe in Python\" otherwise you won't learn anything!) Keep in mind that this project can take anywhere between several hours to several days.\n",
    "\n",
    "\n",
    "I encourage you to just try to start the project on your own without referencing any of the notebooks. If you get stuck, check out the next lecture which is a text lecture with helpful hints and steps. If you're still stuck after that, then check out the Walkthrough Steps Workbook, which breaks up the project in steps for you to solve. Still stuck? Then i will walk you through the solution notebook\n"
   ]
  },
  {
   "cell_type": "markdown",
   "metadata": {},
   "source": [
    "There are parts of this that will be a struggle...and that is good! I have complete faith that if you have made it this far  you have all the tools and knowledge to tackle this project. Remember, it's totally open book, so take your time, do a little research, and remember:\n"
   ]
  },
  {
   "cell_type": "code",
   "execution_count": 2,
   "metadata": {},
   "outputs": [],
   "source": [
    "board = {\n",
    "        '1': ' ' , '2': ' ' , '3': ' ' ,\n",
    "        '4': ' ' , '5': ' ' , '6': ' ' ,\n",
    "        '7': ' ' , '8': ' ' , '9': ' ' }\n",
    "def end_check():\n",
    "    if(board['1']=='X' and board['2']=='X' and board['3']=='X') or (board['4']=='X' and board['5']=='X' and board['6']=='X') or (board['7']=='X' and board['8']=='X' and board['9']=='X'):\n",
    "        print(\"Player 1 won !\")\n",
    "        return 1\n",
    "    elif(board['1']=='X' and board['5']=='X' and board['9']=='X') or (board['3']=='X' and board['5']=='X' and board['7']=='X'):\n",
    "        print(\"Player 2 won!\")\n",
    "        return 1\n",
    "    elif(board['1']=='X' and board['4']=='X' and board['7']=='X') or (board['2']=='X' and board['5']=='X' and board['8']=='X') or (board['3']=='X' and board['6']=='X' and board['9']=='X'):\n",
    "        print(\"Player 1 won !\")\n",
    "        return 1\n",
    "    \n",
    "    elif(board['1']=='O' and board['2']=='O' and board['3']=='O') or (board['4']=='O' and board['5']=='O' and board['6']=='O') or (board['7']=='O' and board['8']=='O' and board['9']=='O'):\n",
    "        print(\"Player 2 won !\")\n",
    "        return 1\n",
    "    elif(board['1']=='O' and board['5']=='O' and board['9']=='O') or (board['3']=='O' and board['5']=='O' and board['7']=='O'):\n",
    "        print(\"Player 2 won!\")\n",
    "        return 1\n",
    "    elif(board['1']=='O' and board['4']=='O' and board['7']=='O') or (board['2']=='O' and board['5']=='O' and board['8']=='O') or (board['3']=='O' and board['6']=='O' and board['9']=='O'):\n",
    "        print(\"Player 2 won !\")\n",
    "        return 1\n",
    "    return 0"
   ]
  },
  {
   "cell_type": "code",
   "execution_count": 3,
   "metadata": {},
   "outputs": [
    {
     "name": "stdout",
     "output_type": "stream",
     "text": [
      "FOR PLAYER 1 MARKER ASSIGNED IS : X \n",
      "FOR PLAYER  2 MARKER ASSIGNED IS: O\n",
      " | | \n",
      "-+-+-\n",
      " | | \n",
      "-+-+-\n",
      " | | \n",
      "Player 1 turn !1\n",
      "X| | \n",
      "-+-+-\n",
      " | | \n",
      "-+-+-\n",
      " | | \n",
      "Player 2 turn !3\n",
      "X| |O\n",
      "-+-+-\n",
      " | | \n",
      "-+-+-\n",
      " | | \n",
      "Player 1 turn !5\n",
      "X| |O\n",
      "-+-+-\n",
      " |X| \n",
      "-+-+-\n",
      " | | \n",
      "Player 2 turn !9\n",
      "X| |O\n",
      "-+-+-\n",
      " |X| \n",
      "-+-+-\n",
      " | |O\n",
      "Player 1 turn !2\n",
      "X|X|O\n",
      "-+-+-\n",
      " |X| \n",
      "-+-+-\n",
      " | |O\n",
      "Player 2 turn !6\n",
      "X|X|O\n",
      "-+-+-\n",
      " |X|O\n",
      "-+-+-\n",
      " | |O\n",
      "Player 2 won !\n"
     ]
    }
   ],
   "source": [
    "print(\"FOR PLAYER 1 MARKER ASSIGNED IS : X \\nFOR PLAYER  2 MARKER ASSIGNED IS: O\")\n",
    "total_moves=0\n",
    "player=1\n",
    "end=0\n",
    "while True:\n",
    "    print(board['1']+'|'+board['2']+'|'+board['3'])\n",
    "    print('-+-+-')\n",
    "    print(board['4']+'|'+board['5']+'|'+board['6'])\n",
    "    print('-+-+-')\n",
    "    print(board['7']+'|'+board['8']+'|'+board['9'])\n",
    "    end = end_check()\n",
    "    if total_moves == 9 or end == 1 :\n",
    "        break\n",
    "    if player == 1:\n",
    "        p1_pos=input(\"Player 1 turn !\")\n",
    "        board[p1_pos]='X'\n",
    "        player=2\n",
    "    else:\n",
    "        p2_pos=input(\"Player 2 turn !\")\n",
    "        board[p2_pos]='O'\n",
    "        player=1\n",
    "    total_moves+=1\n",
    "            "
   ]
  },
  {
   "cell_type": "code",
   "execution_count": null,
   "metadata": {},
   "outputs": [],
   "source": []
  }
 ],
 "metadata": {
  "kernelspec": {
   "display_name": "Python 3",
   "language": "python",
   "name": "python3"
  },
  "language_info": {
   "codemirror_mode": {
    "name": "ipython",
    "version": 3
   },
   "file_extension": ".py",
   "mimetype": "text/x-python",
   "name": "python",
   "nbconvert_exporter": "python",
   "pygments_lexer": "ipython3",
   "version": "3.9.5"
  }
 },
 "nbformat": 4,
 "nbformat_minor": 1
}
